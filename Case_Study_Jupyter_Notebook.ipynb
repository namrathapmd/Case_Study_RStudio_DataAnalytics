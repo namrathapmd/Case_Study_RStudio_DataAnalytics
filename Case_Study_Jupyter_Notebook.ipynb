{
 "cells": [
  {
   "cell_type": "markdown",
   "id": "49ad7b70",
   "metadata": {},
   "source": [
    "## STEP 1: COLLECT DATA\n",
    "\n",
    "### Importing packages and CSV files into corresponding dataframes"
   ]
  },
  {
   "cell_type": "code",
   "execution_count": 3,
   "id": "c3ff7083",
   "metadata": {},
   "outputs": [],
   "source": [
    "import pandas as pd"
   ]
  },
  {
   "cell_type": "code",
   "execution_count": 4,
   "id": "79b13a25",
   "metadata": {},
   "outputs": [],
   "source": [
    "q2_2019 = pd.read_csv('Divvy_Trips_2019_Q2.csv')\n",
    "q3_2019 = pd.read_csv(\"Divvy_Trips_2019_Q3.csv\")\n",
    "q4_2019 = pd.read_csv(\"Divvy_Trips_2019_Q4.csv\")\n",
    "q1_2020 = pd.read_csv(\"Divvy_Trips_2020_Q1.csv\")"
   ]
  },
  {
   "cell_type": "markdown",
   "id": "94489960",
   "metadata": {},
   "source": [
    "## STEP 2: PREPARE\n",
    "\n",
    "### Rename columns to create uniformity and for merging later on"
   ]
  },
  {
   "cell_type": "code",
   "execution_count": 33,
   "id": "b9a12135",
   "metadata": {},
   "outputs": [],
   "source": [
    "q4_2019.rename(columns={'trip_id':'ride_id',\n",
    "                        'bikeid':'rideable_type',\n",
    "                        'start_time':'started_at',\n",
    "                        'end_time':'ended_at',\n",
    "                        'from_station_name':'start_station_name',\n",
    "                        'from_station_id':'start_station_id',\n",
    "                        'to_station_name':'end_station_name',\n",
    "                        'to_station_id':'end_station_id',\n",
    "                        'usertype':'member_casual'}, inplace=True)"
   ]
  },
  {
   "cell_type": "code",
   "execution_count": 36,
   "id": "37e00497",
   "metadata": {},
   "outputs": [],
   "source": [
    "q3_2019.rename(columns={'trip_id':'ride_id',\n",
    "                        'bikeid':'rideable_type',\n",
    "                        'start_time':'started_at',\n",
    "                        'end_time':'ended_at',\n",
    "                        'from_station_name':'start_station_name',\n",
    "                        'from_station_id':'start_station_id',\n",
    "                        'to_station_name':'end_station_name',\n",
    "                        'to_station_id':'end_station_id',\n",
    "                        'usertype':'member_casual'}, inplace=True)"
   ]
  },
  {
   "cell_type": "code",
   "execution_count": 76,
   "id": "fe3daf43",
   "metadata": {},
   "outputs": [],
   "source": [
    "q2_2019.rename(columns={'01 - Rental Details Rental ID':'ride_id',\n",
    "                        '01 - Rental Details Bike ID':'rideable_type',\n",
    "                        '01 - Rental Details Local Start Time':'started_at',\n",
    "                        '01 - Rental Details Local End Time':'ended_at',\n",
    "                        '03 - Rental Start Station Name':'start_station_name',\n",
    "                        '03 - Rental Start Station ID':'start_station_id',\n",
    "                        '02 - Rental End Station Name':'end_station_name',\n",
    "                        '02 - Rental End Station ID':'end_station_id',\n",
    "                        'User Type':'member_casual'}, inplace=True)"
   ]
  },
  {
   "cell_type": "markdown",
   "id": "096c2e07",
   "metadata": {},
   "source": [
    "### Convert datatypes"
   ]
  },
  {
   "cell_type": "code",
   "execution_count": 77,
   "id": "3432e4a6",
   "metadata": {},
   "outputs": [],
   "source": [
    "#convert ride_id and rideable_type to character so they are uniform when stacking\n",
    "q4_2019['ride_id'] = q4_2019['ride_id'].astype(str)\n",
    "q4_2019['rideable_type'] = q4_2019['rideable_type'].astype(str)"
   ]
  },
  {
   "cell_type": "code",
   "execution_count": 78,
   "id": "a9462781",
   "metadata": {},
   "outputs": [],
   "source": [
    "q3_2019['ride_id'] = q3_2019['ride_id'].astype(str)\n",
    "q3_2019['rideable_type'] = q3_2019['rideable_type'].astype(str)"
   ]
  },
  {
   "cell_type": "code",
   "execution_count": 79,
   "id": "0185b875",
   "metadata": {},
   "outputs": [],
   "source": [
    "q2_2019['ride_id'] = q2_2019['ride_id'].astype(str)\n",
    "q2_2019['rideable_type'] = q2_2019['rideable_type'].astype(str)"
   ]
  },
  {
   "cell_type": "markdown",
   "id": "14512ba6",
   "metadata": {},
   "source": [
    "### Combining 4 smaller datasets into one big data frame"
   ]
  },
  {
   "cell_type": "code",
   "execution_count": 80,
   "id": "40580fbc",
   "metadata": {},
   "outputs": [],
   "source": [
    "alltrips = pd.concat([q2_2019,q3_2019,q4_2019,q1_2020],ignore_index=True)"
   ]
  },
  {
   "cell_type": "markdown",
   "id": "99edb60c",
   "metadata": {},
   "source": [
    "### Removing unwanted columns (some data collecting was dropped in 2020)\n"
   ]
  },
  {
   "cell_type": "code",
   "execution_count": 81,
   "id": "bdb16ad9",
   "metadata": {},
   "outputs": [],
   "source": [
    "alltrips = alltrips.drop(columns=['01 - Rental Details Duration In Seconds Uncapped','05 - Member Details Member Birthday Year','gender','birthyear','start_lat','start_lng','end_lat','end_lng','Member Gender','tripduration'])"
   ]
  },
  {
   "cell_type": "markdown",
   "id": "57be4727",
   "metadata": {},
   "source": [
    "## STEP 2: PROCESS \n",
    "### clean up and data manipulation"
   ]
  },
  {
   "cell_type": "code",
   "execution_count": 86,
   "id": "3509c2e7",
   "metadata": {},
   "outputs": [],
   "source": [
    "# in 'member_casual' column, Subscriber=Member and Customer=casual (so lets replacek them to keep only 2 instead of 4)\n",
    "\n",
    "alltrips['member_casual'] = alltrips['member_casual'].replace('Subscriber','member')\n",
    "alltrips['member_casual'] = alltrips['member_casual'].replace('Customer','casual')"
   ]
  },
  {
   "cell_type": "code",
   "execution_count": 95,
   "id": "f4cf774c",
   "metadata": {},
   "outputs": [],
   "source": [
    "#all three new columns: convert the 'started_at' column to date datatype 'Date' and extract --> day, month, day of week\n",
    "\n",
    "alltrips['date'] = pd.to_datetime(alltrips['started_at'])\n",
    "\n",
    "alltrips['day'] = alltrips['date'].dt.date\n",
    "alltrips['month'] = alltrips['date'].dt.month\n",
    "alltrips['year'] = alltrips['date'].dt.year\n",
    "alltrips['day_of_week'] = alltrips['date'].dt.day_name()"
   ]
  },
  {
   "cell_type": "code",
   "execution_count": 120,
   "id": "2d68612a",
   "metadata": {},
   "outputs": [],
   "source": [
    "#add a 'ride_length' column in alltrips that calculates ride length (in seconds) of each rides using 'started_at' and 'ended_at'\n",
    " \n",
    "start_time = pd.to_datetime(alltrips['started_at'])\n",
    "end_time = pd.to_datetime(alltrips['ended_at'])\n",
    "alltrips['ride_length'] = (end_time - start_time).dt.total_seconds()"
   ]
  },
  {
   "cell_type": "code",
   "execution_count": 131,
   "id": "c0fd46e2",
   "metadata": {},
   "outputs": [],
   "source": [
    "#Convert \"ride_length\" to numeric so we can run calculations on the data\n",
    "\n",
    "alltrips['ride_length'] = alltrips['ride_length'].astype(int)"
   ]
  },
  {
   "cell_type": "code",
   "execution_count": 145,
   "id": "ebe8ddce",
   "metadata": {},
   "outputs": [],
   "source": [
    "#some entries in 'ride_length' contains negative values, and some start station names contains \"HQ QR\" values which means these rows have to be removed as this case is when the bikes are taken out of docks and checked for quality\n",
    "\n",
    "conditions = (alltrips['ride_length'] < 0) | (alltrips['start_station_name'] == \"HQ_QR\")\n",
    "alltrips = alltrips.drop(alltrips[conditions].index)"
   ]
  },
  {
   "cell_type": "markdown",
   "id": "53e4de17",
   "metadata": {},
   "source": [
    "## STEP 3: ANALYZE \n"
   ]
  },
  {
   "cell_type": "code",
   "execution_count": null,
   "id": "d4ddc883",
   "metadata": {},
   "outputs": [],
   "source": []
  },
  {
   "cell_type": "code",
   "execution_count": null,
   "id": "4f9e010e",
   "metadata": {},
   "outputs": [],
   "source": []
  }
 ],
 "metadata": {
  "kernelspec": {
   "display_name": "Python 3 (ipykernel)",
   "language": "python",
   "name": "python3"
  },
  "language_info": {
   "codemirror_mode": {
    "name": "ipython",
    "version": 3
   },
   "file_extension": ".py",
   "mimetype": "text/x-python",
   "name": "python",
   "nbconvert_exporter": "python",
   "pygments_lexer": "ipython3",
   "version": "3.9.13"
  }
 },
 "nbformat": 4,
 "nbformat_minor": 5
}
